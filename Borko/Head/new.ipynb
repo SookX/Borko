{
 "cells": [
  {
   "cell_type": "code",
   "execution_count": 2,
   "metadata": {},
   "outputs": [
    {
     "data": {
      "application/vnd.jupyter.widget-view+json": {
       "model_id": "e3cd0a854caf433d86ea6499d97ac9ec",
       "version_major": 2,
       "version_minor": 0
      },
      "text/plain": [
       "Loading checkpoint shards:   0%|          | 0/2 [00:00<?, ?it/s]"
      ]
     },
     "metadata": {},
     "output_type": "display_data"
    },
    {
     "data": {
      "text/plain": [
       "(LlamaForCausalLM(\n",
       "   (model): LlamaModel(\n",
       "     (embed_tokens): Embedding(102400, 4096)\n",
       "     (layers): ModuleList(\n",
       "       (0-29): 30 x LlamaDecoderLayer(\n",
       "         (self_attn): LlamaSdpaAttention(\n",
       "           (q_proj): lora.Linear(\n",
       "             (base_layer): Linear(in_features=4096, out_features=4096, bias=False)\n",
       "             (lora_dropout): ModuleDict(\n",
       "               (default): Dropout(p=0.05, inplace=False)\n",
       "             )\n",
       "             (lora_A): ModuleDict(\n",
       "               (default): Linear(in_features=4096, out_features=16, bias=False)\n",
       "             )\n",
       "             (lora_B): ModuleDict(\n",
       "               (default): Linear(in_features=16, out_features=4096, bias=False)\n",
       "             )\n",
       "             (lora_embedding_A): ParameterDict()\n",
       "             (lora_embedding_B): ParameterDict()\n",
       "             (lora_magnitude_vector): ModuleDict()\n",
       "           )\n",
       "           (k_proj): Linear(in_features=4096, out_features=4096, bias=False)\n",
       "           (v_proj): lora.Linear(\n",
       "             (base_layer): Linear(in_features=4096, out_features=4096, bias=False)\n",
       "             (lora_dropout): ModuleDict(\n",
       "               (default): Dropout(p=0.05, inplace=False)\n",
       "             )\n",
       "             (lora_A): ModuleDict(\n",
       "               (default): Linear(in_features=4096, out_features=16, bias=False)\n",
       "             )\n",
       "             (lora_B): ModuleDict(\n",
       "               (default): Linear(in_features=16, out_features=4096, bias=False)\n",
       "             )\n",
       "             (lora_embedding_A): ParameterDict()\n",
       "             (lora_embedding_B): ParameterDict()\n",
       "             (lora_magnitude_vector): ModuleDict()\n",
       "           )\n",
       "           (o_proj): Linear(in_features=4096, out_features=4096, bias=False)\n",
       "           (rotary_emb): LlamaRotaryEmbedding()\n",
       "         )\n",
       "         (mlp): LlamaMLP(\n",
       "           (gate_proj): Linear(in_features=4096, out_features=11008, bias=False)\n",
       "           (up_proj): Linear(in_features=4096, out_features=11008, bias=False)\n",
       "           (down_proj): Linear(in_features=11008, out_features=4096, bias=False)\n",
       "           (act_fn): SiLU()\n",
       "         )\n",
       "         (input_layernorm): LlamaRMSNorm((4096,), eps=1e-06)\n",
       "         (post_attention_layernorm): LlamaRMSNorm((4096,), eps=1e-06)\n",
       "       )\n",
       "     )\n",
       "     (norm): LlamaRMSNorm((4096,), eps=1e-06)\n",
       "     (rotary_emb): LlamaRotaryEmbedding()\n",
       "   )\n",
       "   (lm_head): Linear(in_features=4096, out_features=102400, bias=False)\n",
       " ),\n",
       " LlamaTokenizerFast(name_or_path='SookX/borko-1', vocab_size=100000, model_max_length=4096, is_fast=True, padding_side='left', truncation_side='right', special_tokens={'bos_token': '<｜begin▁of▁sentence｜>', 'eos_token': '<｜end▁of▁sentence｜>', 'pad_token': '<｜end▁of▁sentence｜>'}, clean_up_tokenization_spaces=False, added_tokens_decoder={\n",
       " \t100000: AddedToken(\"<｜begin▁of▁sentence｜>\", rstrip=False, lstrip=False, single_word=False, normalized=True, special=True),\n",
       " \t100001: AddedToken(\"<｜end▁of▁sentence｜>\", rstrip=False, lstrip=False, single_word=False, normalized=True, special=True),\n",
       " \t100002: AddedToken(\"ø\", rstrip=False, lstrip=False, single_word=False, normalized=True, special=False),\n",
       " \t100003: AddedToken(\"ö\", rstrip=False, lstrip=False, single_word=False, normalized=True, special=False),\n",
       " \t100004: AddedToken(\"ú\", rstrip=False, lstrip=False, single_word=False, normalized=True, special=False),\n",
       " \t100005: AddedToken(\"ÿ\", rstrip=False, lstrip=False, single_word=False, normalized=True, special=False),\n",
       " \t100006: AddedToken(\"õ\", rstrip=False, lstrip=False, single_word=False, normalized=True, special=False),\n",
       " \t100007: AddedToken(\"÷\", rstrip=False, lstrip=False, single_word=False, normalized=True, special=False),\n",
       " \t100008: AddedToken(\"û\", rstrip=False, lstrip=False, single_word=False, normalized=True, special=False),\n",
       " \t100009: AddedToken(\"ý\", rstrip=False, lstrip=False, single_word=False, normalized=True, special=False),\n",
       " \t100010: AddedToken(\"À\", rstrip=False, lstrip=False, single_word=False, normalized=True, special=False),\n",
       " \t100011: AddedToken(\"ù\", rstrip=False, lstrip=False, single_word=False, normalized=True, special=False),\n",
       " \t100012: AddedToken(\"Á\", rstrip=False, lstrip=False, single_word=False, normalized=True, special=False),\n",
       " \t100013: AddedToken(\"þ\", rstrip=False, lstrip=False, single_word=False, normalized=True, special=False),\n",
       " \t100014: AddedToken(\"ü\", rstrip=False, lstrip=False, single_word=False, normalized=True, special=False),\n",
       " }\n",
       " ))"
      ]
     },
     "execution_count": 2,
     "metadata": {},
     "output_type": "execute_result"
    }
   ],
   "source": [
    "from transformers import AutoModel, AutoTokenizer,LlamaForCausalLM\n",
    "\n",
    "model_name = \"SookX/borko-1\"\n",
    "\n",
    "# Load the model and tokenizer\n",
    "model = LlamaForCausalLM.from_pretrained(model_name)\n",
    "tokenizer = AutoTokenizer.from_pretrained(model_name)\n",
    "\n",
    "# Check if the model and tokenizer loaded successfully\n",
    "model, tokenizer\n"
   ]
  }
 ],
 "metadata": {
  "kernelspec": {
   "display_name": "torch",
   "language": "python",
   "name": "python3"
  },
  "language_info": {
   "codemirror_mode": {
    "name": "ipython",
    "version": 3
   },
   "file_extension": ".py",
   "mimetype": "text/x-python",
   "name": "python",
   "nbconvert_exporter": "python",
   "pygments_lexer": "ipython3",
   "version": "3.12.7"
  }
 },
 "nbformat": 4,
 "nbformat_minor": 2
}
